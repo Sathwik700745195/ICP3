{
  "nbformat": 4,
  "nbformat_minor": 0,
  "metadata": {
    "colab": {
      "provenance": [],
      "authorship_tag": "ABX9TyNWSQXCrBDvJsVImLC7bR57",
      "include_colab_link": true
    },
    "kernelspec": {
      "name": "python3",
      "display_name": "Python 3"
    },
    "language_info": {
      "name": "python"
    }
  },
  "cells": [
    {
      "cell_type": "markdown",
      "metadata": {
        "id": "view-in-github",
        "colab_type": "text"
      },
      "source": [
        "<a href=\"https://colab.research.google.com/github/Sathwik700745195/ICP3/blob/main/Untitled1.ipynb\" target=\"_parent\"><img src=\"https://colab.research.google.com/assets/colab-badge.svg\" alt=\"Open In Colab\"/></a>"
      ]
    },
    {
      "cell_type": "code",
      "source": [
        "#Create a class Employee\n",
        "class Employee:\n",
        "    #Create a data member to count the number of Employees\n",
        "    empCount = 0\n",
        "\n",
        "    #Create a constructor to initialize name, family, salary, department\n",
        "    def __init__(self, name, family, salary, department):\n",
        "        self.name = name\n",
        "        self.family = family\n",
        "        self.salary = salary\n",
        "        self.department = department\n",
        "        Employee.empCount += 1\n",
        "\n",
        "    #Create a function to average salary\n",
        "    def average_salary(self):\n",
        "        return self.salary / Employee.empCount\n",
        "\n",
        "#Create a Fulltime Employee class and it should inherit the properties of Employee class\n",
        "class FulltimeEmployee(Employee):\n",
        "    def __init__(self, name, family, salary, department):\n",
        "        Employee.__init__(self, name, family, salary, department)\n",
        "\n",
        "#Create the instances of Fulltime Employee class and Employee class and call their member functions\n",
        "emp1 = Employee(\"Sathwik\", \"Nitturi\", 50000, \"CS\")\n",
        "EMP2 = FulltimeEmployee(\"nikhil\", \"sai\", 60000, \"CIS\")\n",
        "\n",
        "print(\"Average Salary:\", emp1.average_salary())\n",
        "print(\"Number of Employees:\", Employee.empCount)"
      ],
      "metadata": {
        "colab": {
          "base_uri": "https://localhost:8080/"
        },
        "id": "7rdgzCXhtGbc",
        "outputId": "c03b698b-16ca-4a90-9471-7e20b428cf9b"
      },
      "execution_count": 7,
      "outputs": [
        {
          "output_type": "stream",
          "name": "stdout",
          "text": [
            "Average Salary: 25000.0\n",
            "Number of Employees: 2\n"
          ]
        }
      ]
    },
    {
      "cell_type": "code",
      "source": [
        "import numpy as np\n",
        "\n",
        "# Create random vector of size 20 with float\n",
        "rand_vec = np.random.uniform(low=1, high=20, size=20)\n",
        "print(rand_vec)\n",
        "\n",
        "# Reshape array to 4 by 5\n",
        "rand_vec_reshape = rand_vec.reshape(4,5)\n",
        "print(rand_vec)\n",
        "\n",
        "# Replace max in each row by 0\n",
        "rand_vec_reshape[np.arange(4),rand_vec_reshape.argmax(axis=1)] = 0\n",
        "\n",
        "print(rand_vec_reshape)"
      ],
      "metadata": {
        "colab": {
          "base_uri": "https://localhost:8080/"
        },
        "id": "VguQDq1jpZl6",
        "outputId": "f3b7ed13-2291-4c6b-e04d-bbe571558c6c"
      },
      "execution_count": 5,
      "outputs": [
        {
          "output_type": "stream",
          "name": "stdout",
          "text": [
            "[ 3.84421479 10.01112117 16.23424373 16.35328402  6.31104302  5.55258807\n",
            "  5.36531933  6.46290437  5.85747472  7.67699161  1.9655935  19.97701433\n",
            " 18.76836362 11.57597857  7.1869302   7.51818799  5.94172154  8.23554011\n",
            "  7.26488962 17.07887807]\n",
            "[ 3.84421479 10.01112117 16.23424373 16.35328402  6.31104302  5.55258807\n",
            "  5.36531933  6.46290437  5.85747472  7.67699161  1.9655935  19.97701433\n",
            " 18.76836362 11.57597857  7.1869302   7.51818799  5.94172154  8.23554011\n",
            "  7.26488962 17.07887807]\n",
            "[[ 3.84421479 10.01112117 16.23424373  0.          6.31104302]\n",
            " [ 5.55258807  5.36531933  6.46290437  5.85747472  0.        ]\n",
            " [ 1.9655935   0.         18.76836362 11.57597857  7.1869302 ]\n",
            " [ 7.51818799  5.94172154  8.23554011  7.26488962  0.        ]]\n"
          ]
        }
      ]
    }
  ]
}